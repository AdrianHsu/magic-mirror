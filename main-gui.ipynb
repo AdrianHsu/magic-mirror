{
 "cells": [
  {
   "cell_type": "code",
   "execution_count": 1,
   "metadata": {
    "collapsed": false
   },
   "outputs": [],
   "source": [
    "import sys\n",
    "import PyQt5\n",
    "from PyQt5 import QtGui, QtCore\n",
    "from PyQt5 import QtWidgets\n",
    "from PyQt5.QtWidgets import *\n",
    "from PyQt5.QtGui import *"
   ]
  },
  {
   "cell_type": "code",
   "execution_count": 2,
   "metadata": {
    "collapsed": false
   },
   "outputs": [],
   "source": [
    "class MainWindow(QtWidgets.QMainWindow):\n",
    "    def __init__(self):\n",
    "        super(MainWindow, self).__init__()\n",
    "        self.central_widget = QtWidgets.QS  tackedWidget()\n",
    "        self.setCentralWidget(self.central_widget)\n",
    "        cb = QPushButton('Switch', self)\n",
    "        cb.move(20, 20)\n",
    "        cb.clicked.connect(self.add_entry)\n",
    "        palette = self.palette()\n",
    "        role = self.backgroundRole()\n",
    "        palette.setColor(role, QColor('red'))\n",
    "        self.setPalette(palette)\n",
    "        \n",
    "        page1_widget = Page1Widget(self)\n",
    "        page1_widget.button.clicked.connect(self.gotopage2)\n",
    "        self.central_widget.addWidget(page1_widget)\n",
    "        \n",
    "    def gotopage2(self): # now in page 1\n",
    "        page2_widget = Page2Widget(self)\n",
    "        page2_widget.button.clicked.connect(self.gotopage1)\n",
    "        self.central_widget.addWidget(page2_widget)\n",
    "        self.central_widget.setCurrentWidget(page2_widget)\n",
    "        \n",
    "    def gotopage1(self):\n",
    "        page1_widget = Page1Widget(self)\n",
    "        page1_widget.button.clicked.connect(self.gotopage2)\n",
    "        self.central_widget.addWidget(page1_widget)\n",
    "        self.central_widget.setCurrentWidget(page1_widget)\n",
    "        \n",
    "    def add_entry(self):\n",
    "        if self.windowState() & QtCore.Qt.WindowFullScreen:\n",
    "            self.showNormal()\n",
    "        else:\n",
    "            self.showFullScreen()\n",
    "        \n",
    "class Page1Widget(QtWidgets.QWidget):\n",
    "    def __init__(self, parent=None):\n",
    "        super(Page1Widget, self).__init__(parent)\n",
    "        layout = QHBoxLayout()\n",
    "        self.button = QtWidgets.QPushButton('goto Page2')\n",
    "        layout.addWidget(self.button)\n",
    "        self.setLayout(layout)\n",
    "\n",
    "class Page2Widget(QtWidgets.QWidget):\n",
    "    def __init__(self, parent=None):\n",
    "        super(Page2Widget, self).__init__(parent)\n",
    "        layout = QHBoxLayout()\n",
    "        self.label = QLabel('in page2')\n",
    "        layout.addWidget(self.label)\n",
    "        self.button = QtWidgets.QPushButton('goto Page1')\n",
    "        layout.addWidget(self.button)\n",
    "        self.setLayout(layout)"
   ]
  },
  {
   "cell_type": "code",
   "execution_count": 3,
   "metadata": {
    "collapsed": false
   },
   "outputs": [
    {
     "ename": "SystemExit",
     "evalue": "0",
     "output_type": "error",
     "traceback": [
      "An exception has occurred, use %tb to see the full traceback.\n",
      "\u001b[0;31mSystemExit\u001b[0m\u001b[0;31m:\u001b[0m 0\n"
     ]
    },
    {
     "name": "stderr",
     "output_type": "stream",
     "text": [
      "/Users/AdrianHsu/anaconda/envs/python2/lib/python2.7/site-packages/IPython/core/interactiveshell.py:2889: UserWarning: To exit: use 'exit', 'quit', or Ctrl-D.\n",
      "  warn(\"To exit: use 'exit', 'quit', or Ctrl-D.\", stacklevel=1)\n"
     ]
    }
   ],
   "source": [
    "if __name__ == '__main__':\n",
    "    app = QApplication(sys.argv)\n",
    "    w = MainWindow()\n",
    "    w.setWindowTitle(\"Magic Mirror\")\n",
    "    w.resize(640, 480)\n",
    "    w.show()\n",
    "    sys.exit(app.exec_())"
   ]
  },
  {
   "cell_type": "code",
   "execution_count": null,
   "metadata": {
    "collapsed": true
   },
   "outputs": [],
   "source": []
  }
 ],
 "metadata": {
  "anaconda-cloud": {},
  "kernelspec": {
   "display_name": "Python [conda env:python2]",
   "language": "python",
   "name": "conda-env-python2-py"
  },
  "language_info": {
   "codemirror_mode": {
    "name": "ipython",
    "version": 2
   },
   "file_extension": ".py",
   "mimetype": "text/x-python",
   "name": "python",
   "nbconvert_exporter": "python",
   "pygments_lexer": "ipython2",
   "version": "2.7.12"
  }
 },
 "nbformat": 4,
 "nbformat_minor": 1
}
